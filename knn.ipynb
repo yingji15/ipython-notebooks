{
  "nbformat": 4,
  "nbformat_minor": 0,
  "metadata": {
    "colab": {
      "name": "knn.ipynb",
      "provenance": [],
      "include_colab_link": true
    },
    "kernelspec": {
      "name": "python3",
      "display_name": "Python 3"
    }
  },
  "cells": [
    {
      "cell_type": "markdown",
      "metadata": {
        "id": "view-in-github",
        "colab_type": "text"
      },
      "source": [
        "<a href=\"https://colab.research.google.com/github/yingji15/ipython-notebooks/blob/master/knn.ipynb\" target=\"_parent\"><img src=\"https://colab.research.google.com/assets/colab-badge.svg\" alt=\"Open In Colab\"/></a>"
      ]
    },
    {
      "cell_type": "code",
      "metadata": {
        "id": "2LCcME8vaezM",
        "colab_type": "code",
        "colab": {}
      },
      "source": [
        "import numpy as np\n",
        "import operator"
      ],
      "execution_count": 0,
      "outputs": []
    },
    {
      "cell_type": "code",
      "metadata": {
        "id": "fhySwCpWfN7w",
        "colab_type": "code",
        "colab": {}
      },
      "source": [
        "def create_data():\n",
        "    group = np.array([[1.0,1.1],[1.0,1.0],[0,0],[0,0.1]])\n",
        "    labels = ['A','A','B','B']\n",
        "    return group,labels"
      ],
      "execution_count": 0,
      "outputs": []
    },
    {
      "cell_type": "code",
      "metadata": {
        "id": "9Skz19EWge7M",
        "colab_type": "code",
        "colab": {}
      },
      "source": [
        "group,labels = create_data()"
      ],
      "execution_count": 0,
      "outputs": []
    },
    {
      "cell_type": "markdown",
      "metadata": {
        "id": "QzmIMiP0aiLo",
        "colab_type": "text"
      },
      "source": [
        ""
      ]
    },
    {
      "cell_type": "code",
      "metadata": {
        "id": "qHCCbksFgu7P",
        "colab_type": "code",
        "colab": {
          "base_uri": "https://localhost:8080/",
          "height": 84
        },
        "outputId": "4c7d4b23-8fc6-4910-f03c-64b0dc643beb"
      },
      "source": [
        "group"
      ],
      "execution_count": 9,
      "outputs": [
        {
          "output_type": "execute_result",
          "data": {
            "text/plain": [
              "array([[1. , 1.1],\n",
              "       [1. , 1. ],\n",
              "       [0. , 0. ],\n",
              "       [0. , 0.1]])"
            ]
          },
          "metadata": {
            "tags": []
          },
          "execution_count": 9
        }
      ]
    },
    {
      "cell_type": "code",
      "metadata": {
        "id": "mpTmJ6-0gwmu",
        "colab_type": "code",
        "colab": {
          "base_uri": "https://localhost:8080/",
          "height": 34
        },
        "outputId": "70bb671a-718c-4d73-b05d-4b147e6385f8"
      },
      "source": [
        "labels"
      ],
      "execution_count": 10,
      "outputs": [
        {
          "output_type": "execute_result",
          "data": {
            "text/plain": [
              "['A', 'A', 'B', 'B']"
            ]
          },
          "metadata": {
            "tags": []
          },
          "execution_count": 10
        }
      ]
    },
    {
      "cell_type": "code",
      "metadata": {
        "id": "xeQYfBx7gx3Z",
        "colab_type": "code",
        "colab": {}
      },
      "source": [
        "def classify0(x,data,labels,k):\n",
        "  datasize = data.shape[0] # number of samples in training\n",
        "  diffmat = np.tile(x,(datasize,1))-data # tile: repeat x rep times, each time a new column, then minus data to prepare for distance \n",
        "  sqdiffmat = diffmat**2 # square (x1 - x2)\n",
        "  sqdistances = sqdiffmat.sum(axis=1) # sum by column (x1-x2)^2 + (y1-y2)^2\n",
        "  distances = sqdistances**0.5 \n",
        "  sorted_ind = distances.argsort()\n",
        "  classCount = {}\n",
        "  for i in range(k):\n",
        "    vote = labels[sorted_ind[i]]\n",
        "    classCount[vote] = classCount.get(vote,0)+1 # get(key,value): if key not there, return value 0\n",
        "  sortedclasscount = sorted(classCount.items(), key=operator.itemgetter(1),reverse=True)\n",
        "  return sortedclasscount[0][0]"
      ],
      "execution_count": 0,
      "outputs": []
    },
    {
      "cell_type": "code",
      "metadata": {
        "id": "x4Hq36fKkqpC",
        "colab_type": "code",
        "colab": {
          "base_uri": "https://localhost:8080/",
          "height": 34
        },
        "outputId": "de8fd5f8-2f35-41f9-924c-76cc387473ce"
      },
      "source": [
        "classify0([0,0],group,labels,3)"
      ],
      "execution_count": 18,
      "outputs": [
        {
          "output_type": "execute_result",
          "data": {
            "text/plain": [
              "'B'"
            ]
          },
          "metadata": {
            "tags": []
          },
          "execution_count": 18
        }
      ]
    },
    {
      "cell_type": "code",
      "metadata": {
        "id": "4LG8rxNbnmXi",
        "colab_type": "code",
        "colab": {
          "base_uri": "https://localhost:8080/",
          "height": 34
        },
        "outputId": "41c92599-1a55-4e26-de05-fe6e34695fd4"
      },
      "source": [
        "group.shape[0]"
      ],
      "execution_count": 19,
      "outputs": [
        {
          "output_type": "execute_result",
          "data": {
            "text/plain": [
              "4"
            ]
          },
          "metadata": {
            "tags": []
          },
          "execution_count": 19
        }
      ]
    },
    {
      "cell_type": "code",
      "metadata": {
        "colab_type": "code",
        "outputId": "19c87b79-5745-47d2-9ec3-25816b769e13",
        "id": "a-c3fUGAn8s2",
        "colab": {
          "base_uri": "https://localhost:8080/",
          "height": 84
        }
      },
      "source": [
        "np.tile([0,0],(4,1))"
      ],
      "execution_count": 22,
      "outputs": [
        {
          "output_type": "execute_result",
          "data": {
            "text/plain": [
              "array([[0, 0],\n",
              "       [0, 0],\n",
              "       [0, 0],\n",
              "       [0, 0]])"
            ]
          },
          "metadata": {
            "tags": []
          },
          "execution_count": 22
        }
      ]
    },
    {
      "cell_type": "code",
      "metadata": {
        "id": "SXcsT3xxn_Pq",
        "colab_type": "code",
        "colab": {
          "base_uri": "https://localhost:8080/",
          "height": 84
        },
        "outputId": "6cb60074-b734-472d-f2aa-cfee9b7f3b12"
      },
      "source": [
        "group"
      ],
      "execution_count": 23,
      "outputs": [
        {
          "output_type": "execute_result",
          "data": {
            "text/plain": [
              "array([[1. , 1.1],\n",
              "       [1. , 1. ],\n",
              "       [0. , 0. ],\n",
              "       [0. , 0.1]])"
            ]
          },
          "metadata": {
            "tags": []
          },
          "execution_count": 23
        }
      ]
    },
    {
      "cell_type": "code",
      "metadata": {
        "id": "8_1WEAcDntRf",
        "colab_type": "code",
        "colab": {}
      },
      "source": [
        "diffmat = np.tile([0,0],(4,1))-group"
      ],
      "execution_count": 0,
      "outputs": []
    },
    {
      "cell_type": "code",
      "metadata": {
        "id": "r1brVs6DoJMx",
        "colab_type": "code",
        "colab": {}
      },
      "source": [
        "sq = diffmat**2\n",
        "sqd = sq.sum(axis=1)"
      ],
      "execution_count": 0,
      "outputs": []
    },
    {
      "cell_type": "code",
      "metadata": {
        "id": "ZP0bnCAMocna",
        "colab_type": "code",
        "colab": {
          "base_uri": "https://localhost:8080/",
          "height": 84
        },
        "outputId": "1cd5a3a9-68e6-4a5e-e1ea-d2b170c6fff9"
      },
      "source": [
        "sq"
      ],
      "execution_count": 29,
      "outputs": [
        {
          "output_type": "execute_result",
          "data": {
            "text/plain": [
              "array([[1.  , 1.21],\n",
              "       [1.  , 1.  ],\n",
              "       [0.  , 0.  ],\n",
              "       [0.  , 0.01]])"
            ]
          },
          "metadata": {
            "tags": []
          },
          "execution_count": 29
        }
      ]
    },
    {
      "cell_type": "code",
      "metadata": {
        "id": "qaefBexVoYur",
        "colab_type": "code",
        "colab": {
          "base_uri": "https://localhost:8080/",
          "height": 34
        },
        "outputId": "cc6f6348-fbf7-4fee-a8b9-f8455d42b1d9"
      },
      "source": [
        "sqd"
      ],
      "execution_count": 28,
      "outputs": [
        {
          "output_type": "execute_result",
          "data": {
            "text/plain": [
              "array([2.21, 2.  , 0.  , 0.01])"
            ]
          },
          "metadata": {
            "tags": []
          },
          "execution_count": 28
        }
      ]
    },
    {
      "cell_type": "code",
      "metadata": {
        "id": "11oJKAT9ogeL",
        "colab_type": "code",
        "colab": {}
      },
      "source": [
        "dist = sqd**0.5\n",
        "sorted_ind = dist.argsort() # nearest: 0 distance, index 3"
      ],
      "execution_count": 0,
      "outputs": []
    },
    {
      "cell_type": "code",
      "metadata": {
        "id": "hEsSqE2ZpX6W",
        "colab_type": "code",
        "colab": {
          "base_uri": "https://localhost:8080/",
          "height": 168
        },
        "outputId": "9c0ae57a-23e4-4213-db45-12f816272109"
      },
      "source": [
        "classCount = {}\n",
        "for i in range(3):\n",
        "  vote = labels[sorted_ind[i]]\n",
        "  print(i)\n",
        "  print(sorted_ind[i])\n",
        "  print(vote)\n",
        "  classCount[vote] = classCount.get(vote,0) + 1 # it is a counter: note how many times \n"
      ],
      "execution_count": 32,
      "outputs": [
        {
          "output_type": "stream",
          "text": [
            "0\n",
            "2\n",
            "B\n",
            "1\n",
            "3\n",
            "B\n",
            "2\n",
            "1\n",
            "A\n"
          ],
          "name": "stdout"
        }
      ]
    },
    {
      "cell_type": "code",
      "metadata": {
        "id": "WTM9047cqwKz",
        "colab_type": "code",
        "colab": {}
      },
      "source": [
        "sorted_class = sorted(classCount.items(),key=operator.itemgetter(1),reverse=True)"
      ],
      "execution_count": 0,
      "outputs": []
    },
    {
      "cell_type": "code",
      "metadata": {
        "id": "pYmArfGFsdjQ",
        "colab_type": "code",
        "colab": {
          "base_uri": "https://localhost:8080/",
          "height": 34
        },
        "outputId": "e7ceca2a-5a68-478c-bc02-3eca38de8923"
      },
      "source": [
        "sorted_class"
      ],
      "execution_count": 36,
      "outputs": [
        {
          "output_type": "execute_result",
          "data": {
            "text/plain": [
              "[('B', 2), ('A', 1)]"
            ]
          },
          "metadata": {
            "tags": []
          },
          "execution_count": 36
        }
      ]
    },
    {
      "cell_type": "code",
      "metadata": {
        "id": "x1NdzX2qsvXd",
        "colab_type": "code",
        "colab": {
          "base_uri": "https://localhost:8080/",
          "height": 34
        },
        "outputId": "c6cc96cb-e09b-4d8c-86e4-806a8f4739da"
      },
      "source": [
        "sorted_class[0]"
      ],
      "execution_count": 37,
      "outputs": [
        {
          "output_type": "execute_result",
          "data": {
            "text/plain": [
              "('B', 2)"
            ]
          },
          "metadata": {
            "tags": []
          },
          "execution_count": 37
        }
      ]
    },
    {
      "cell_type": "code",
      "metadata": {
        "id": "AtFflBYvszED",
        "colab_type": "code",
        "colab": {}
      },
      "source": [
        ""
      ],
      "execution_count": 0,
      "outputs": []
    }
  ]
}